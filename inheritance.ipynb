{
 "cells": [
  {
   "cell_type": "markdown",
   "id": "767e037b",
   "metadata": {},
   "source": [
    "# Погружение в Python\n",
    "## by Московский физико-технический институт, VK & E-Learning Development Fund"
   ]
  },
  {
   "cell_type": "markdown",
   "id": "6bc6157c",
   "metadata": {},
   "source": [
    "### 3 неделя: Классы и объекты"
   ]
  },
  {
   "cell_type": "markdown",
   "id": "a17a6899",
   "metadata": {},
   "source": [
    "Как правило задачи про классы не носят вычислительный характер. Обычно нужно написать классы, которые отвечают определенным интерфейсам. Насколько удобны эти интерфейсы и как сильно связаны классы между собой, определит легкость их использования в будущих программах.\n",
    "\n",
    "Предположим есть данные о разных автомобилях и спецтехнике. Данные представлены в виде таблицы с характеристиками. Вся техника разделена на три вида: спецтехника, легковые и грузовые автомобили. Обратите внимание на то, что некоторые характеристики присущи только определенному виду техники. Например, у легковых автомобилей есть характеристика «кол-во пассажирских мест», а у грузовых автомобилей — габариты кузова: «длина», «ширина» и «высота».\n",
    "\n",
    "Вам необходимо создать свою иерархию классов для данных, которые описаны в таблице. Классы должны называться CarBase (базовый класс для всех типов машин), __Car__ (легковые автомобили), __Truck__ (грузовые автомобили) и __SpecMachine__ (спецтехника). Все объекты имеют обязательные атрибуты:\n",
    "\n",
    "- car_type, значение типа объекта и может принимать одно из значений: «car», «truck», «spec_machine».\n",
    "\n",
    "- photo_file_name, имя файла с изображением машины, допустимы названия файлов изображений с расширением из списка: «.jpg», «.jpeg», «.png», «.gif»\n",
    "\n",
    "- brand, марка производителя машины\n",
    "\n",
    "- carrying, грузоподъемность\n",
    "\n",
    "В базовом классе CarBase нужно реализовать метод *get_photo_file_ext* для получения расширения файла изображения. Расширение файла можно получить при помощи os.path.splitext.\n",
    "\n",
    "Для грузового автомобиля необходимо в конструкторе класса определить атрибуты: body_length, body_width, body_height, отвечающие соответственно за габариты кузова — длину, ширину и высоту. Габариты передаются в параметре body_lwh строка, в которой размеры разделены латинской буквой «x»). Обратите внимание на то, что характеристики кузова должны быть вещественными числами и характеристики кузова могут быть не валидными (например, пустая строка). В таком случае всем атрибутам, отвечающим за габариты кузова, присваивается значение равное нулю.\n",
    "\n",
    "Также для класса грузового автомобиля необходимо реализовать метод *get_body_volume*, возвращающий объем кузова.\n",
    "\n",
    "В классе Car должен быть определен атрибут *passenger_seats_count* (количество пассажирских мест), а в классе __SpecMachine__ — extra (дополнительное описание машины)."
   ]
  },
  {
   "cell_type": "code",
   "execution_count": 23,
   "id": "9e81b7fa",
   "metadata": {},
   "outputs": [],
   "source": [
    "class CarBase():\n",
    "    \n",
    "    def __init__(self, photo_file_name, brand, carrying):\n",
    "        self.photo_file_name = photo_file_name\n",
    "        self.brand = brand\n",
    "        self.carrying = carrying\n",
    "    \n",
    "        \n",
    "    def get_photo_file_ext(self):\n",
    "        return os.path.splitext(self.photo_file_name)[-1]\n",
    "\n",
    "class Car(CarBase):\n",
    "    car_type = 'car'\n",
    "    \n",
    "    def __init__(self, car_type , photo_file_name, brand, carrying, passenger_seats_count = None):\n",
    "        self.passenger_seats_count = passenger_seats_count\n",
    "        super().__init__(photo_file_name, brand, carrying)\n",
    "\n",
    "\n",
    "class Truck(CarBase):\n",
    "    car_type = 'truck'\n",
    "    \n",
    "    def __init__(self, photo_file_name, brand, carrying, body_lwh = None):\n",
    "        self.body_lwh = body_lwh\n",
    "        self.body_length, self.body_width, self.body_height = self.body_lwh.split(sep = 'x')\n",
    "        super().__init__(photo_file_name, brand, carrying)\n",
    "        \n",
    "    def get_body_volume(self):        \n",
    "        try:\n",
    "            self.body_length, self.body_width, self.body_height = float(self.body_length), float(self.body_width), float(self.body_height)\n",
    "        except ValueError:\n",
    "            self.body_length, self.body_width, self.body_height = 0, 0, 0\n",
    "            \n",
    "        return self.body_length * self.body_width * self.body_height\n",
    "        \n",
    "                \n",
    "\n",
    "class SpecMachine(CarBase):\n",
    "    car_type = 'cpec_machine'\n",
    "    \n",
    "    def __init__(self, photo_file_name, brand, carrying, extra):\n",
    "        self.extra = extra\n",
    "        super().__init__(photo_file_name, brand, carrying)\n",
    "\n"
   ]
  }
 ],
 "metadata": {
  "kernelspec": {
   "display_name": "Python 3 (ipykernel)",
   "language": "python",
   "name": "python3"
  },
  "language_info": {
   "codemirror_mode": {
    "name": "ipython",
    "version": 3
   },
   "file_extension": ".py",
   "mimetype": "text/x-python",
   "name": "python",
   "nbconvert_exporter": "python",
   "pygments_lexer": "ipython3",
   "version": "3.9.7"
  }
 },
 "nbformat": 4,
 "nbformat_minor": 5
}
