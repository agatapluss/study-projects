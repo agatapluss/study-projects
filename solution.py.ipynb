{
 "cells": [
  {
   "cell_type": "code",
   "execution_count": 60,
   "id": "66b92d14",
   "metadata": {},
   "outputs": [],
   "source": [
    "\"\"\"Ваша задача: написать python-модуль solution.py, внутрь которого необходимо поместить код класса FileReader. \n",
    "Конструктор этого класса принимает один параметр: путь до файла на диске. \n",
    "В классе FileReader должен быть реализован метод read, возвращающий строку - содержимое файла, \n",
    "путь к которому был указан при создании экземпляра класса. \n",
    "Python модуль должен быть написан таким образом, чтобы импорт класса FileReader из него не вызвал ошибок.\n",
    "\n",
    "При написании реализации метода read, вам нужно учитывать случай, \n",
    "когда при инициализации был передан путь к несуществующему файлу. \n",
    "Требуется обработать возникающее при этом исключение FileNotFoundError и вернуть из метода read пустую строку.\"\"\"\n",
    "\n",
    "\n",
    "class FileReader:\n",
    "    \n",
    "    def __init__(self, file):\n",
    "        self.file = file\n",
    "        \n",
    "    def read(self):\n",
    "        try:\n",
    "            with open(self.file, \"r\") as f:\n",
    "                answer = f.read()\n",
    "            return answer\n",
    "        except FileNotFoundError:\n",
    "            print(' ')\n",
    "            \n",
    "        "
   ]
  },
  {
   "cell_type": "code",
   "execution_count": null,
   "id": "f4b3cad8",
   "metadata": {},
   "outputs": [],
   "source": []
  }
 ],
 "metadata": {
  "kernelspec": {
   "display_name": "Python 3 (ipykernel)",
   "language": "python",
   "name": "python3"
  },
  "language_info": {
   "codemirror_mode": {
    "name": "ipython",
    "version": 3
   },
   "file_extension": ".py",
   "mimetype": "text/x-python",
   "name": "python",
   "nbconvert_exporter": "python",
   "pygments_lexer": "ipython3",
   "version": "3.9.7"
  }
 },
 "nbformat": 4,
 "nbformat_minor": 5
}
